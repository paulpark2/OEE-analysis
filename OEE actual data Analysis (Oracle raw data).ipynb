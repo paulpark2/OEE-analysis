{
 "cells": [
  {
   "cell_type": "raw",
   "metadata": {},
   "source": [
    "df = df.sort_values(by=['Timestamp Start'], ascending=True)\n",
    "datetime.datetime.strptime(\"2021-12-20 오후 4:36:16\".replace(\"오후\",\"PM\"), \"%Y-%m-%d %p %I:%M:%S\").strftime(\"%Y-%m-%d %H:%M:%S\")"
   ]
  },
  {
   "cell_type": "raw",
   "metadata": {},
   "source": [
    "df2.sort_values(by=['EQ_ID', 'Timestamp Start'], inplace=True)\n",
    "df2 = df2.reset_index(drop = True)\n",
    "x = df2[(df2[['STATE_NAME_y']] == 'Waiting (Tool change OP)' ).all(1)].index.tolist()\n",
    "k = []\n",
    "for i in x:\n",
    "    if (df2.iloc[[i-1]]['STATE_NAME_x'] == \"Undefined Waiting\").bool():\n",
    "        k.append(i)\n",
    "df2.iloc[[9162]]    "
   ]
  },
  {
   "cell_type": "raw",
   "metadata": {},
   "source": [
    "#time interver count anlysis\n",
    "a = (df2.Time > '04:00:00') & (df2.Time < '05:30:00')\n",
    "b = (df2.Time > '09:00:00') & (df2.Time < '10:00:00')\n",
    "c = (df2.Time > '16:00:00') & (df2.Time < '17:00:00')\n",
    "d = (df2.Time > '19:00:00') & (df2.Time < '20:00:00')\n",
    "e = (df2.Time > '22:30:00') & (df2.Time < '23:30:00')\n",
    "df3 = df2.loc[a]\n",
    "df3 = df3.append(df2.loc[b])\n",
    "df3 = df3.append(df2.loc[c])\n",
    "df3 = df3.append(df2.loc[d])\n",
    "df3 = df3.append(df2.loc[e])"
   ]
  },
  {
   "cell_type": "code",
   "execution_count": 1,
   "metadata": {},
   "outputs": [],
   "source": [
    "from openpyxl import load_workbook\n",
    "import os\n",
    "import numpy as np\n",
    "from numpy.random import randn\n",
    "import pandas as pd\n",
    "from pandas import Series, DataFrame\n",
    "from dateutil.parser import parse\n",
    "import matplotlib.pyplot as plt\n",
    "from matplotlib import rcParams\n",
    "import seaborn as sns\n",
    "import csv\n",
    "import datetime\n",
    "import time\n",
    "from datetime import datetime, timedelta"
   ]
  },
  {
   "cell_type": "code",
   "execution_count": 2,
   "metadata": {},
   "outputs": [],
   "source": [
    "df_list = [\n",
    "    #df1 = pd.read_csv('202107_TFM.csv')\n",
    "    #df2 = pd.read_csv('202108_TFM.csv')\n",
    "    #df3 = pd.read_csv('202109_TFM.csv')\n",
    "    #pd.read_csv('202110_TFM.csv'),\n",
    "    pd.read_csv('202111_TFM.csv'),\n",
    "    pd.read_csv('202112_TFM.csv'),\n",
    "    pd.read_csv('202201_TFM.csv'),\n",
    "    pd.read_csv('202202_TFM.csv'),\n",
    "    pd.read_csv('202203_TFM.csv'),\n",
    "    pd.read_csv('202204_TFM.csv'),\n",
    "    pd.read_csv('202205_TFM.csv'),\n",
    "    pd.read_csv('202206_TFM.csv'),\n",
    "    pd.read_csv('202207_TFM.csv'),\n",
    "    #pd.read_csv('202208_TFM.csv'),\n",
    "    #pd.read_csv('202209_TFM.csv')\n",
    "    #pd.read_csv('202210_TFM.csv'),\n",
    "    #pd.read_csv('202211_TFM.csv'),\n",
    "    #pd.read_csv('202212_TFM.csv'),\n",
    "    #pd.read_csv('202301_TFM.csv'),\n",
    "    #pd.read_csv('202302_TFM.csv'),\n",
    "    #pd.read_csv('202303_TFM.csv'),\n",
    "    #pd.read_csv('202304_TFM.csv'),\n",
    "    #pd.read_csv('202305_TFM.csv'),\n",
    "    #pd.read_csv('202306_TFM.csv'),\n",
    "    #pd.read_csv('202307_TFM.csv'),\n",
    "    #pd.read_csv('202308_TFM.csv')\n",
    "]"
   ]
  },
  {
   "cell_type": "code",
   "execution_count": 3,
   "metadata": {},
   "outputs": [],
   "source": [
    "df = pd.concat(df_list)"
   ]
  },
  {
   "cell_type": "code",
   "execution_count": 4,
   "metadata": {},
   "outputs": [],
   "source": [
    "m_list = [\n",
    "    #pd.read_csv('202110_TFM2.csv', dtype={'Product': str}),\n",
    "    pd.read_csv('202111_TFM2.csv', dtype={'Product': str}),\n",
    "    pd.read_csv('202112_TFM2.csv', dtype={'Product': str}),\n",
    "    pd.read_csv('202201_TFM2.csv', dtype={'Product': str}),\n",
    "    pd.read_csv('202202_TFM2.csv', dtype={'Product': str}),\n",
    "    pd.read_csv('202203_TFM2.csv', dtype={'Product': str}),\n",
    "    pd.read_csv('202204_TFM2.csv', dtype={'Product': str}),\n",
    "    pd.read_csv('202205~202301TFM.csv'),\n",
    "    #pd.read_csv('202302_TFM2.csv'),\n",
    "    #pd.read_csv('202303_TFM2.csv'),\n",
    "    #pd.read_csv('202304_TFM2.csv'),\n",
    "    #pd.read_csv('202305_TFM2.csv'),\n",
    "    #pd.read_csv('202306_TFM2.csv'),\n",
    "    #pd.read_csv('202307_TFM2.csv'),\n",
    "    #pd.read_csv('202308_TFM2.csv')\n",
    "]"
   ]
  },
  {
   "cell_type": "code",
   "execution_count": 5,
   "metadata": {},
   "outputs": [],
   "source": [
    "pq = pd.read_csv('EQ_Process_BN.csv')"
   ]
  },
  {
   "cell_type": "code",
   "execution_count": 6,
   "metadata": {},
   "outputs": [],
   "source": [
    "pq['EQ_ID'] = pq['EQ_ID'].str.strip()"
   ]
  },
  {
   "cell_type": "code",
   "execution_count": 7,
   "metadata": {},
   "outputs": [],
   "source": [
    "m = pd.concat(m_list)"
   ]
  },
  {
   "cell_type": "code",
   "execution_count": 8,
   "metadata": {},
   "outputs": [],
   "source": [
    "m.rename(columns={'Ident':'Metakey Ident'},inplace=True)"
   ]
  },
  {
   "cell_type": "code",
   "execution_count": 9,
   "metadata": {},
   "outputs": [],
   "source": [
    "device = pd.read_csv('Device.csv')"
   ]
  },
  {
   "cell_type": "code",
   "execution_count": 10,
   "metadata": {},
   "outputs": [],
   "source": [
    "df = pd.merge(df, m[['Metakey Ident','Device']], on=\"Metakey Ident\", how='left')"
   ]
  },
  {
   "cell_type": "code",
   "execution_count": 11,
   "metadata": {},
   "outputs": [],
   "source": [
    "df = pd.merge(df, device, on=\"Device\", how='left')"
   ]
  },
  {
   "cell_type": "code",
   "execution_count": 12,
   "metadata": {},
   "outputs": [],
   "source": [
    "df = pd.merge(df, m[['Metakey Ident','Lotid']], on=\"Metakey Ident\", how='left')"
   ]
  },
  {
   "cell_type": "code",
   "execution_count": 13,
   "metadata": {},
   "outputs": [],
   "source": [
    "EQ_ident = pd.read_csv('EQ_ident.csv')"
   ]
  },
  {
   "cell_type": "code",
   "execution_count": 14,
   "metadata": {},
   "outputs": [],
   "source": [
    "EQ_states = pd.read_csv('EQ_states.csv')"
   ]
  },
  {
   "cell_type": "code",
   "execution_count": 15,
   "metadata": {},
   "outputs": [],
   "source": [
    "Lv5_Indent = pd.read_csv('Lv5_indent.csv')"
   ]
  },
  {
   "cell_type": "code",
   "execution_count": 16,
   "metadata": {},
   "outputs": [],
   "source": [
    "Lv3_Indent = pd.read_csv('Lv3_indent.csv')"
   ]
  },
  {
   "cell_type": "code",
   "execution_count": 17,
   "metadata": {},
   "outputs": [],
   "source": [
    "Lv5_Indent.rename(columns={'STATE_IDENT':'Tr25 5 Status'},inplace=True)"
   ]
  },
  {
   "cell_type": "code",
   "execution_count": 18,
   "metadata": {},
   "outputs": [],
   "source": [
    "df = pd.merge(df, EQ_ident, on='Eq Ident', how = 'inner')"
   ]
  },
  {
   "cell_type": "code",
   "execution_count": 19,
   "metadata": {},
   "outputs": [],
   "source": [
    "df['Process'] = df['EQ_ID'].str.extract(pat = '([A-Z]..)')"
   ]
  },
  {
   "cell_type": "code",
   "execution_count": 20,
   "metadata": {},
   "outputs": [],
   "source": [
    "df = pd.merge(df, Lv3_Indent, on='Tr25 3 Status', how = 'inner')"
   ]
  },
  {
   "cell_type": "code",
   "execution_count": 21,
   "metadata": {},
   "outputs": [],
   "source": [
    "df = pd.merge(df, Lv5_Indent, on='Tr25 5 Status', how = 'inner')"
   ]
  },
  {
   "cell_type": "code",
   "execution_count": 22,
   "metadata": {},
   "outputs": [],
   "source": [
    "df = pd.merge(df, EQ_states, on='Eq Status', how = 'outer')"
   ]
  },
  {
   "cell_type": "code",
   "execution_count": 23,
   "metadata": {},
   "outputs": [],
   "source": [
    "df = df.dropna(subset=['Timestamp End', 'Timestamp Start'])"
   ]
  },
  {
   "cell_type": "code",
   "execution_count": 24,
   "metadata": {},
   "outputs": [],
   "source": [
    "df['Timestamp Start'] = pd.to_datetime(df['Timestamp Start'], format='%Y-%m-%d %p %I:%M:%S', errors='ignore')"
   ]
  },
  {
   "cell_type": "code",
   "execution_count": 25,
   "metadata": {},
   "outputs": [],
   "source": [
    "def convert_to_24h_format(dt_str):\n",
    "    parts = dt_str.split(' ')\n",
    "    date = parts[0]\n",
    "    time_parts = parts[2].split(':')\n",
    "    hours = int(time_parts[0])\n",
    "    if parts[1] == '오후' and hours != 12:\n",
    "        hours += 12\n",
    "    elif parts[1] == '오전' and hours == 12:\n",
    "        hours = 0\n",
    "    time = f'{hours:02d}:{time_parts[1]}:{time_parts[2]}'\n",
    "    return f'{date} {time}'"
   ]
  },
  {
   "cell_type": "code",
   "execution_count": 26,
   "metadata": {},
   "outputs": [],
   "source": [
    "convert_to_24h_format_v = np.vectorize(convert_to_24h_format)\n",
    "df['Timestamp Start'] = convert_to_24h_format_v(df['Timestamp Start'].values)\n",
    "df['Timestamp Start'] = pd.to_datetime(df['Timestamp Start'], format='%Y-%m-%d %H:%M:%S')\n",
    "#df['Timestamp Start'] = df['Timestamp Start'].dt.strftime('%Y-%m-%d %H:%M:%S')"
   ]
  },
  {
   "cell_type": "code",
   "execution_count": 27,
   "metadata": {},
   "outputs": [],
   "source": [
    "convert_to_24h_format_v = np.vectorize(convert_to_24h_format)\n",
    "df['Timestamp End'] = convert_to_24h_format_v(df['Timestamp End'].values)\n",
    "df['Timestamp End'] = pd.to_datetime(df['Timestamp End'], format='%Y-%m-%d %H:%M:%S')\n",
    "#df['Timestamp End'] = df['Timestamp End'].dt.strftime('%Y-%m-%d %H:%M:%S')"
   ]
  },
  {
   "cell_type": "code",
   "execution_count": 28,
   "metadata": {},
   "outputs": [],
   "source": [
    "df['seconds'] = (df['Timestamp End'] - df['Timestamp Start']).dt.total_seconds().astype(int)"
   ]
  },
  {
   "cell_type": "code",
   "execution_count": 29,
   "metadata": {},
   "outputs": [],
   "source": [
    "#weekly data 뽑을때\n",
    "\n",
    "df['Timestamp Start'] = pd.to_datetime(df['Timestamp Start'])\n",
    "start_time = datetime(2022, 10, 1, 6, 0, 0)\n",
    "df['time_difference'] = df['Timestamp Start'] - start_time\n",
    "df['week'] = (df['time_difference'] / timedelta(weeks=1)).astype(int) + 1\n",
    "df.drop('time_difference', axis=1, inplace=True)\n"
   ]
  },
  {
   "cell_type": "code",
   "execution_count": 29,
   "metadata": {},
   "outputs": [],
   "source": [
    "#df['Month'] = df['Timestamp Start'].dt.strftime('%Y-%m')"
   ]
  },
  {
   "cell_type": "code",
   "execution_count": 30,
   "metadata": {},
   "outputs": [],
   "source": [
    "#df['Time'] = df['Timestamp Start'].dt.strftime(\"%H:%M:%S\")\n",
    "#df['Date'] = pd.to_datetime(df['Timestamp Start']).dt.to_period('D')"
   ]
  },
  {
   "cell_type": "code",
   "execution_count": 30,
   "metadata": {},
   "outputs": [],
   "source": [
    "df = df[['Timestamp Start', 'week','Process','EQ_ID','Lotid','Product type','STATE_NAME_x', 'STATE_NAME_y','seconds']]"
   ]
  },
  {
   "cell_type": "code",
   "execution_count": 31,
   "metadata": {},
   "outputs": [],
   "source": [
    "df.sort_values(by=['EQ_ID','Timestamp Start'], inplace=True)"
   ]
  },
  {
   "cell_type": "code",
   "execution_count": 32,
   "metadata": {},
   "outputs": [],
   "source": [
    "df['Lotid'] = df['Lotid'].fillna(method = 'ffill')\n",
    "df['Lotid'] = df['Lotid'].fillna(method = 'bfill')"
   ]
  },
  {
   "cell_type": "code",
   "execution_count": 33,
   "metadata": {},
   "outputs": [],
   "source": [
    "df['Product type'] = df['Product type'].fillna(method = 'ffill')\n",
    "df['Product type'] = df['Product type'].fillna(method = 'bfill')"
   ]
  },
  {
   "cell_type": "code",
   "execution_count": 34,
   "metadata": {},
   "outputs": [],
   "source": [
    "df = df[['week', 'Process','EQ_ID', 'Lotid', 'Product type','STATE_NAME_x', 'STATE_NAME_y','seconds',]]"
   ]
  },
  {
   "cell_type": "code",
   "execution_count": 36,
   "metadata": {},
   "outputs": [
    {
     "data": {
      "text/html": [
       "<div>\n",
       "<style scoped>\n",
       "    .dataframe tbody tr th:only-of-type {\n",
       "        vertical-align: middle;\n",
       "    }\n",
       "\n",
       "    .dataframe tbody tr th {\n",
       "        vertical-align: top;\n",
       "    }\n",
       "\n",
       "    .dataframe thead th {\n",
       "        text-align: right;\n",
       "    }\n",
       "</style>\n",
       "<table border=\"1\" class=\"dataframe\">\n",
       "  <thead>\n",
       "    <tr style=\"text-align: right;\">\n",
       "      <th></th>\n",
       "      <th>week</th>\n",
       "      <th>Process</th>\n",
       "      <th>EQ_ID</th>\n",
       "      <th>Lotid</th>\n",
       "      <th>Product type</th>\n",
       "      <th>STATE_NAME_x</th>\n",
       "      <th>STATE_NAME_y</th>\n",
       "      <th>seconds</th>\n",
       "    </tr>\n",
       "  </thead>\n",
       "  <tbody>\n",
       "    <tr>\n",
       "      <th>2382448</th>\n",
       "      <td>-46</td>\n",
       "      <td>AFV</td>\n",
       "      <td>AFVI001</td>\n",
       "      <td>2Z1420T6</td>\n",
       "      <td>IKCM10H60GA</td>\n",
       "      <td>Undefined Waiting</td>\n",
       "      <td>Undefined Waiting</td>\n",
       "      <td>45</td>\n",
       "    </tr>\n",
       "    <tr>\n",
       "      <th>7355461</th>\n",
       "      <td>-46</td>\n",
       "      <td>AFV</td>\n",
       "      <td>AFVI001</td>\n",
       "      <td>2Z1420T6</td>\n",
       "      <td>IKCM10H60GA</td>\n",
       "      <td>Normal Production</td>\n",
       "      <td>Normal Production</td>\n",
       "      <td>47</td>\n",
       "    </tr>\n",
       "    <tr>\n",
       "      <th>7355462</th>\n",
       "      <td>-46</td>\n",
       "      <td>AFV</td>\n",
       "      <td>AFVI001</td>\n",
       "      <td>2Z1420T6</td>\n",
       "      <td>IKCM10H60GA</td>\n",
       "      <td>Normal Production</td>\n",
       "      <td>Normal Production</td>\n",
       "      <td>773</td>\n",
       "    </tr>\n",
       "    <tr>\n",
       "      <th>10660250</th>\n",
       "      <td>-46</td>\n",
       "      <td>AFV</td>\n",
       "      <td>AFVI001</td>\n",
       "      <td>2Z1420T6</td>\n",
       "      <td>IKCM10H60GA</td>\n",
       "      <td>Waiting for Response</td>\n",
       "      <td>Waiting for Response</td>\n",
       "      <td>31</td>\n",
       "    </tr>\n",
       "    <tr>\n",
       "      <th>10660251</th>\n",
       "      <td>-46</td>\n",
       "      <td>AFV</td>\n",
       "      <td>AFVI001</td>\n",
       "      <td>2Z1420T6</td>\n",
       "      <td>IKCM10H60GA</td>\n",
       "      <td>Waiting for Response</td>\n",
       "      <td>Waiting for Response</td>\n",
       "      <td>78</td>\n",
       "    </tr>\n",
       "  </tbody>\n",
       "</table>\n",
       "</div>"
      ],
      "text/plain": [
       "          week Process    EQ_ID     Lotid Product type          STATE_NAME_x  \\\n",
       "2382448    -46     AFV  AFVI001  2Z1420T6  IKCM10H60GA     Undefined Waiting   \n",
       "7355461    -46     AFV  AFVI001  2Z1420T6  IKCM10H60GA     Normal Production   \n",
       "7355462    -46     AFV  AFVI001  2Z1420T6  IKCM10H60GA     Normal Production   \n",
       "10660250   -46     AFV  AFVI001  2Z1420T6  IKCM10H60GA  Waiting for Response   \n",
       "10660251   -46     AFV  AFVI001  2Z1420T6  IKCM10H60GA  Waiting for Response   \n",
       "\n",
       "                  STATE_NAME_y  seconds  \n",
       "2382448      Undefined Waiting       45  \n",
       "7355461      Normal Production       47  \n",
       "7355462      Normal Production      773  \n",
       "10660250  Waiting for Response       31  \n",
       "10660251  Waiting for Response       78  "
      ]
     },
     "execution_count": 36,
     "metadata": {},
     "output_type": "execute_result"
    }
   ],
   "source": [
    "df.head()"
   ]
  },
  {
   "cell_type": "code",
   "execution_count": 38,
   "metadata": {},
   "outputs": [],
   "source": [
    "df['group'] = (df['STATE_NAME_y'] != df['STATE_NAME_y'].shift()).cumsum()\n",
    "df2 = df.groupby('group').agg({'week': 'first', 'Process': 'first', 'EQ_ID': 'first', 'Lotid': 'first' , 'Product type': 'first', 'STATE_NAME_x': 'first', 'STATE_NAME_y': 'first', 'seconds': 'sum'})\n",
    "df2 = df2.reset_index(drop=False)"
   ]
  },
  {
   "cell_type": "code",
   "execution_count": 39,
   "metadata": {},
   "outputs": [],
   "source": [
    "df2 = df2.drop(['group'], axis=1)"
   ]
  },
  {
   "cell_type": "code",
   "execution_count": 40,
   "metadata": {},
   "outputs": [
    {
     "data": {
      "text/html": [
       "<div>\n",
       "<style scoped>\n",
       "    .dataframe tbody tr th:only-of-type {\n",
       "        vertical-align: middle;\n",
       "    }\n",
       "\n",
       "    .dataframe tbody tr th {\n",
       "        vertical-align: top;\n",
       "    }\n",
       "\n",
       "    .dataframe thead th {\n",
       "        text-align: right;\n",
       "    }\n",
       "</style>\n",
       "<table border=\"1\" class=\"dataframe\">\n",
       "  <thead>\n",
       "    <tr style=\"text-align: right;\">\n",
       "      <th></th>\n",
       "      <th>week</th>\n",
       "      <th>Process</th>\n",
       "      <th>EQ_ID</th>\n",
       "      <th>Lotid</th>\n",
       "      <th>Product type</th>\n",
       "      <th>STATE_NAME_x</th>\n",
       "      <th>STATE_NAME_y</th>\n",
       "      <th>seconds</th>\n",
       "    </tr>\n",
       "  </thead>\n",
       "  <tbody>\n",
       "    <tr>\n",
       "      <th>0</th>\n",
       "      <td>-46</td>\n",
       "      <td>AFV</td>\n",
       "      <td>AFVI001</td>\n",
       "      <td>2Z1420T6</td>\n",
       "      <td>IKCM10H60GA</td>\n",
       "      <td>Undefined Waiting</td>\n",
       "      <td>Undefined Waiting</td>\n",
       "      <td>45</td>\n",
       "    </tr>\n",
       "    <tr>\n",
       "      <th>1</th>\n",
       "      <td>-46</td>\n",
       "      <td>AFV</td>\n",
       "      <td>AFVI001</td>\n",
       "      <td>2Z1420T6</td>\n",
       "      <td>IKCM10H60GA</td>\n",
       "      <td>Normal Production</td>\n",
       "      <td>Normal Production</td>\n",
       "      <td>820</td>\n",
       "    </tr>\n",
       "    <tr>\n",
       "      <th>2</th>\n",
       "      <td>-46</td>\n",
       "      <td>AFV</td>\n",
       "      <td>AFVI001</td>\n",
       "      <td>2Z1420T6</td>\n",
       "      <td>IKCM10H60GA</td>\n",
       "      <td>Waiting for Response</td>\n",
       "      <td>Waiting for Response</td>\n",
       "      <td>109</td>\n",
       "    </tr>\n",
       "    <tr>\n",
       "      <th>3</th>\n",
       "      <td>-46</td>\n",
       "      <td>AFV</td>\n",
       "      <td>AFVI001</td>\n",
       "      <td>2Z1420T6</td>\n",
       "      <td>IKCM10H60GA</td>\n",
       "      <td>Normal Production</td>\n",
       "      <td>Normal Production</td>\n",
       "      <td>253</td>\n",
       "    </tr>\n",
       "    <tr>\n",
       "      <th>4</th>\n",
       "      <td>-46</td>\n",
       "      <td>AFV</td>\n",
       "      <td>AFVI001</td>\n",
       "      <td>2Z1420HH</td>\n",
       "      <td>IKCM10H60GA</td>\n",
       "      <td>Undefined Waiting</td>\n",
       "      <td>Undefined Waiting</td>\n",
       "      <td>15</td>\n",
       "    </tr>\n",
       "  </tbody>\n",
       "</table>\n",
       "</div>"
      ],
      "text/plain": [
       "   week Process    EQ_ID     Lotid Product type          STATE_NAME_x  \\\n",
       "0   -46     AFV  AFVI001  2Z1420T6  IKCM10H60GA     Undefined Waiting   \n",
       "1   -46     AFV  AFVI001  2Z1420T6  IKCM10H60GA     Normal Production   \n",
       "2   -46     AFV  AFVI001  2Z1420T6  IKCM10H60GA  Waiting for Response   \n",
       "3   -46     AFV  AFVI001  2Z1420T6  IKCM10H60GA     Normal Production   \n",
       "4   -46     AFV  AFVI001  2Z1420HH  IKCM10H60GA     Undefined Waiting   \n",
       "\n",
       "           STATE_NAME_y  seconds  \n",
       "0     Undefined Waiting       45  \n",
       "1     Normal Production      820  \n",
       "2  Waiting for Response      109  \n",
       "3     Normal Production      253  \n",
       "4     Undefined Waiting       15  "
      ]
     },
     "execution_count": 40,
     "metadata": {},
     "output_type": "execute_result"
    }
   ],
   "source": [
    "df2.head()"
   ]
  },
  {
   "cell_type": "code",
   "execution_count": 38,
   "metadata": {},
   "outputs": [],
   "source": [
    "#Bottleneck base analysis\n",
    "PFC_D = ['IM564-X6D','IFCM30T65GD','IFCM20T65GD', 'IFCM15S60GS', 'IFCM15P60GD', 'IFCM15S60GD']\n",
    "PFC_EQ = ['LSD011', 'LSD017','LSD028', 'LSD029', 'LSD040', 'LSD039']\n",
    "PFC_EQ2 = ['LSD011', 'LSD027','LSD029', 'LSD038']\n",
    "#df.sort_values(by=['EQ_ID','Timestamp Start'], inplace=True)\n",
    "#df['Product type'] = np.where(df['Product type'].fillna(method = 'bfill'), df['Product type'])\n",
    "#df['Product type'] = np.where(df['Product type'].fillna(method = 'ffill'), df['Product type'])\n",
    "\n",
    "df2 = df2[~( (df2['Product type'].isin(PFC_D)) & (df2['EQ_ID'].isin(PFC_EQ))) ]\n",
    "df2 = df2[~( (~df2['Product type'].isin(PFC_D)) & (df2['EQ_ID'].isin(PFC_EQ2))) ]"
   ]
  },
  {
   "cell_type": "code",
   "execution_count": 51,
   "metadata": {},
   "outputs": [],
   "source": [
    "'''\n",
    "df2 = df2[(df2.STATE_NAME_x != 'No Material')]\n",
    "#df = df[(df.LEVEL5_NAME != 'SPEED LOSS')]\n",
    "df2 = df2[(df2.STATE_NAME_x != 'Ivalid Data')]\n",
    "df2 = df2[(df2.STATE_NAME_x != 'Exception')]\n",
    "df2 = df2[(df2.STATE_NAME_x != 'No Communication')]\n",
    "df2 = df2[(df2.STATE_NAME_x != 'Non-Scheduled Time')]\n",
    "'''"
   ]
  },
  {
   "cell_type": "code",
   "execution_count": null,
   "metadata": {},
   "outputs": [],
   "source": [
    "df4 = df2.groupby(['Date','Lotid']).count()"
   ]
  },
  {
   "cell_type": "code",
   "execution_count": null,
   "metadata": {},
   "outputs": [],
   "source": []
  },
  {
   "cell_type": "code",
   "execution_count": 36,
   "metadata": {},
   "outputs": [],
   "source": [
    "#FP SDA\n",
    "filter1 = df2['EQ_ID'].isin(['LSD003', 'LSD004', 'LSD005', 'LSD006', 'LSD007', 'LSD009', 'LSD010', 'LSD013', 'LSD014', 'LSD015', 'LSD016', 'LSD018', 'LSD019', 'LSD024', 'LSD025', 'LSD026', 'LSD036', 'LSD037'])"
   ]
  },
  {
   "cell_type": "code",
   "execution_count": 51,
   "metadata": {},
   "outputs": [],
   "source": [
    "filter1 = df2['EQ_ID'].isin(['LSD001', 'LSD003', 'LSD004', 'LSD005', 'LSD006', 'LSD007', 'LSD009', 'LSD010', 'LSD012', 'LSD013', 'LSD014', 'LSD015', 'LSD016', 'LSD018', 'LSD019', 'LSD020', 'LSD021', 'LSD023', 'LSD024', 'LSD025', 'LSD026', 'LSD027', 'LSD030', 'LSD031', 'LSD035', 'LSD036', 'LSD037', 'LSD038', 'LSD041'])"
   ]
  },
  {
   "cell_type": "code",
   "execution_count": 25,
   "metadata": {
    "scrolled": true
   },
   "outputs": [],
   "source": [
    "#Al WB all\n",
    "filter1 = df2['EQ_ID'].isin(['LAW004', 'LAW006', 'LAW007', 'LAW008', 'LAW009', 'LAW010', 'LAW011', 'LAW012', 'LAW013', 'LAW016', 'LAW018', 'LAW020', 'LAW022', 'LAW024', 'LAW026', 'LAW030', 'LAW033', 'LAW034', 'LAW035', 'LAW036', 'LAW040', 'LAW043', 'LAW050', 'LAW028', 'LAW029', 'LAW032', 'LAW038', 'LAW045', 'LAW046', 'LAW053', 'LAW014', 'LAW037', 'LAW042', 'LAW044', 'LAW052', 'LAW041', 'LAW047', 'LAW031', 'LAW039', 'LAW049', 'LAW048', 'LAW051'])"
   ]
  },
  {
   "cell_type": "code",
   "execution_count": 41,
   "metadata": {},
   "outputs": [],
   "source": [
    "#FP Al WB\n",
    "filter1 = df2['EQ_ID'].isin(['LAW004','LAW005', 'LAW006', 'LAW007', 'LAW008', 'LAW009', 'LAW010', 'LAW011', 'LAW012', 'LAW013', 'LAW016', 'LAW018', 'LAW020', 'LAW022', 'LAW024', 'LAW026', 'LAW030', 'LAW033', 'LAW034', 'LAW035', 'LAW036', 'LAW040', 'LAW043'])"
   ]
  },
  {
   "cell_type": "code",
   "execution_count": 58,
   "metadata": {},
   "outputs": [],
   "source": [
    "#DCG P&G\n",
    "filter1 = df2['EQ_ID'].isin(['LAW029', 'LAW028', 'LAW038', 'LAW032', 'LAW046', 'LAW045', 'LAW053'])"
   ]
  },
  {
   "cell_type": "code",
   "execution_count": 78,
   "metadata": {},
   "outputs": [],
   "source": [
    "#Tiny1.0 3x\n",
    "filter1 = df2['EQ_ID'].isin(['LAW031', 'LAW039', 'LAW049'])"
   ]
  },
  {
   "cell_type": "code",
   "execution_count": 39,
   "metadata": {},
   "outputs": [],
   "source": [
    "#BN SDA\n",
    "filter1 = df2['EQ_ID'].isin(['LSD003', 'LSD004', 'LSD005', 'LSD006', 'LSD007', 'LSD009', 'LSD010', 'LSD013', 'LSD014', 'LSD015', 'LSD016', 'LSD018', 'LSD019', 'LSD024', 'LSD025', 'LSD026', 'LSD036', 'LSD037','LSD001', 'LSD011', 'LSD012', 'LSD017', 'LSD023', 'LSD027', 'LSD028', 'LSD029', 'LSD035', 'LSD038', 'LSD039', 'LSD040','LSD020', 'LSD021', 'LSD030', 'LSD031','LSD041'])"
   ]
  },
  {
   "cell_type": "code",
   "execution_count": 42,
   "metadata": {},
   "outputs": [],
   "source": [
    "#Mold\n",
    "filter1 = df2['EQ_ID'].isin(['LMD002', 'LMD003', 'LMD004', 'LMD005', 'LMD006', 'LMD007', 'LMD009', 'LMD010', 'LMD011', 'LMD012', 'LMD013', 'LMD14'])"
   ]
  },
  {
   "cell_type": "code",
   "execution_count": 42,
   "metadata": {},
   "outputs": [],
   "source": [
    "#All SDA\n",
    "filter1 = df2['EQ_ID'].isin(['LSD001', 'LSD002', 'LSD003', 'LSD004', 'LSD005', 'LSD006', 'LSD007', 'LSD008', 'LSD009', 'LSD010', 'LSD011', 'LSD012', 'LSD013', 'LSD014', 'LSD015', 'LSD016', 'LSD017', 'LSD018', 'LSD019', 'LSD020', 'LSD021', 'LSD022', 'LSD023', 'LSD024', 'LSD025', 'LSD026', 'LSD027', 'LSD028', 'LSD029', 'LSD030', 'LSD031', 'LSD035', 'LSD036', 'LSD037', 'LSD038', 'LSD039', 'LSD040', 'LSD041', 'LSD042'])"
   ]
  },
  {
   "cell_type": "code",
   "execution_count": 35,
   "metadata": {},
   "outputs": [],
   "source": [
    "#PCB connection\n",
    "filter1 = df2['EQ_ID'].isin(['LPC003','LPC004','LPC005'])"
   ]
  },
  {
   "cell_type": "code",
   "execution_count": 42,
   "metadata": {},
   "outputs": [],
   "source": [
    "df3 = df2[filter1]"
   ]
  },
  {
   "cell_type": "code",
   "execution_count": 43,
   "metadata": {},
   "outputs": [
    {
     "data": {
      "text/html": [
       "<div>\n",
       "<style scoped>\n",
       "    .dataframe tbody tr th:only-of-type {\n",
       "        vertical-align: middle;\n",
       "    }\n",
       "\n",
       "    .dataframe tbody tr th {\n",
       "        vertical-align: top;\n",
       "    }\n",
       "\n",
       "    .dataframe thead th {\n",
       "        text-align: right;\n",
       "    }\n",
       "</style>\n",
       "<table border=\"1\" class=\"dataframe\">\n",
       "  <thead>\n",
       "    <tr style=\"text-align: right;\">\n",
       "      <th></th>\n",
       "      <th>week</th>\n",
       "      <th>Process</th>\n",
       "      <th>EQ_ID</th>\n",
       "      <th>Lotid</th>\n",
       "      <th>Product type</th>\n",
       "      <th>STATE_NAME_x</th>\n",
       "      <th>STATE_NAME_y</th>\n",
       "      <th>seconds</th>\n",
       "    </tr>\n",
       "  </thead>\n",
       "  <tbody>\n",
       "    <tr>\n",
       "      <th>3799569</th>\n",
       "      <td>-46</td>\n",
       "      <td>LAW</td>\n",
       "      <td>LAW004</td>\n",
       "      <td>2Z2300J3</td>\n",
       "      <td>IM393-S6F</td>\n",
       "      <td>Waiting for Response</td>\n",
       "      <td>Waiting for Response</td>\n",
       "      <td>9</td>\n",
       "    </tr>\n",
       "    <tr>\n",
       "      <th>3799570</th>\n",
       "      <td>-46</td>\n",
       "      <td>LAW</td>\n",
       "      <td>LAW004</td>\n",
       "      <td>2Z2300J3</td>\n",
       "      <td>IM393-S6F</td>\n",
       "      <td>Normal Production</td>\n",
       "      <td>Normal Production</td>\n",
       "      <td>604</td>\n",
       "    </tr>\n",
       "    <tr>\n",
       "      <th>3799571</th>\n",
       "      <td>-46</td>\n",
       "      <td>LAW</td>\n",
       "      <td>LAW004</td>\n",
       "      <td>2Z2300J3</td>\n",
       "      <td>IM393-S6F</td>\n",
       "      <td>Maintenance</td>\n",
       "      <td>Change Tool</td>\n",
       "      <td>1140</td>\n",
       "    </tr>\n",
       "    <tr>\n",
       "      <th>3799572</th>\n",
       "      <td>-46</td>\n",
       "      <td>LAW</td>\n",
       "      <td>LAW004</td>\n",
       "      <td>2Z2300J3</td>\n",
       "      <td>IM393-S6F</td>\n",
       "      <td>Normal Production</td>\n",
       "      <td>Normal Production</td>\n",
       "      <td>1390</td>\n",
       "    </tr>\n",
       "    <tr>\n",
       "      <th>3799573</th>\n",
       "      <td>-46</td>\n",
       "      <td>LAW</td>\n",
       "      <td>LAW004</td>\n",
       "      <td>2Z2300J3</td>\n",
       "      <td>IM393-S6F</td>\n",
       "      <td>Waiting for Response</td>\n",
       "      <td>Waiting for Response</td>\n",
       "      <td>11</td>\n",
       "    </tr>\n",
       "  </tbody>\n",
       "</table>\n",
       "</div>"
      ],
      "text/plain": [
       "         week Process   EQ_ID     Lotid Product type          STATE_NAME_x  \\\n",
       "3799569   -46     LAW  LAW004  2Z2300J3    IM393-S6F  Waiting for Response   \n",
       "3799570   -46     LAW  LAW004  2Z2300J3    IM393-S6F     Normal Production   \n",
       "3799571   -46     LAW  LAW004  2Z2300J3    IM393-S6F           Maintenance   \n",
       "3799572   -46     LAW  LAW004  2Z2300J3    IM393-S6F     Normal Production   \n",
       "3799573   -46     LAW  LAW004  2Z2300J3    IM393-S6F  Waiting for Response   \n",
       "\n",
       "                 STATE_NAME_y  seconds  \n",
       "3799569  Waiting for Response        9  \n",
       "3799570     Normal Production      604  \n",
       "3799571           Change Tool     1140  \n",
       "3799572     Normal Production     1390  \n",
       "3799573  Waiting for Response       11  "
      ]
     },
     "execution_count": 43,
     "metadata": {},
     "output_type": "execute_result"
    }
   ],
   "source": [
    "df3.head()"
   ]
  },
  {
   "cell_type": "code",
   "execution_count": 73,
   "metadata": {},
   "outputs": [],
   "source": [
    "#Nomaterial 앞에 있는 Waiting for response 빼고 계산법\n",
    "df3 = df3.reset_index()\n",
    "k = df3.index[df3['STATE_NAME_x'] == \"No Material\" ].tolist()\n",
    "lst=[]\n",
    "w=[]\n",
    "for i in k:\n",
    "    if df3.iloc[i-1]['STATE_NAME_x'] == \"Waiting for Response\":\n",
    "        lst.append(i-1)\n",
    "\n",
    "w = lst + k\n",
    "df3 = df3[~df3.index.isin(lst)]\n",
    "#df3 = df3[(df3.STATE_NAME_x != 'No Material')]"
   ]
  },
  {
   "cell_type": "code",
   "execution_count": 57,
   "metadata": {},
   "outputs": [],
   "source": [
    "df4 = df3[df3.index.isin(lst)]"
   ]
  },
  {
   "cell_type": "code",
   "execution_count": 59,
   "metadata": {},
   "outputs": [],
   "source": [
    "df5 = df4[(df4.seconds > 0)] "
   ]
  },
  {
   "cell_type": "code",
   "execution_count": 60,
   "metadata": {},
   "outputs": [],
   "source": [
    "df5.sort_values(by=['seconds'], inplace=True)"
   ]
  },
  {
   "cell_type": "code",
   "execution_count": 63,
   "metadata": {},
   "outputs": [
    {
     "data": {
      "text/plain": [
       "100.08821902654867"
      ]
     },
     "execution_count": 63,
     "metadata": {},
     "output_type": "execute_result"
    }
   ],
   "source": [
    "df5['seconds'].mean()"
   ]
  },
  {
   "cell_type": "code",
   "execution_count": 38,
   "metadata": {},
   "outputs": [],
   "source": [
    "df4 = pd.crosstab([df3.STATE_NAME_x],df3.Month,values=df3.seconds,aggfunc=sum,rownames=['Level 5'],colnames=['month'], normalize='columns')"
   ]
  },
  {
   "cell_type": "code",
   "execution_count": 51,
   "metadata": {},
   "outputs": [],
   "source": [
    "df3.to_excel(\"Mold 2110~2209.xlsx\")"
   ]
  },
  {
   "cell_type": "markdown",
   "metadata": {},
   "source": [
    "# Tool change & Spanker Cleaning & Mold cleaning"
   ]
  },
  {
   "cell_type": "code",
   "execution_count": 78,
   "metadata": {},
   "outputs": [],
   "source": [
    "df4 = df3[df3['STATE_NAME_x'].isin(['Waiting for Response'])]"
   ]
  },
  {
   "cell_type": "code",
   "execution_count": 86,
   "metadata": {},
   "outputs": [],
   "source": [
    "df4 = df3[df3['STATE_NAME_x'].isin(['Waiting For Technician'])]"
   ]
  },
  {
   "cell_type": "code",
   "execution_count": 53,
   "metadata": {},
   "outputs": [],
   "source": [
    "df4 = df3[df3['STATE_NAME_y'].isin(['Change Collet'])]"
   ]
  },
  {
   "cell_type": "code",
   "execution_count": 44,
   "metadata": {},
   "outputs": [],
   "source": [
    "df4 = df3[df3['STATE_NAME_y'].isin(['Regular Mold Cleaning'])]"
   ]
  },
  {
   "cell_type": "code",
   "execution_count": 77,
   "metadata": {},
   "outputs": [],
   "source": [
    "df4 = df3[df3['STATE_NAME_x'].isin(['Undefined Waiting'])]"
   ]
  },
  {
   "cell_type": "code",
   "execution_count": 80,
   "metadata": {},
   "outputs": [],
   "source": [
    "df4 = df3[df3['STATE_NAME_y'].isin(['Change Tool'])]"
   ]
  },
  {
   "cell_type": "code",
   "execution_count": 66,
   "metadata": {},
   "outputs": [],
   "source": [
    "df4 = df3[df3['STATE_NAME_y'].isin(['Waiting (Tool change OP)'])]"
   ]
  },
  {
   "cell_type": "code",
   "execution_count": 44,
   "metadata": {},
   "outputs": [],
   "source": [
    "df4 = df3[df3['STATE_NAME_y'].isin(['Change Device'])]"
   ]
  },
  {
   "cell_type": "code",
   "execution_count": 37,
   "metadata": {},
   "outputs": [],
   "source": [
    "df4 = df3[df3['STATE_NAME_x'].isin(['Undefined Waiting','Machine Failure','Material Problem','IT Problem','Waiting For Technician'])]"
   ]
  },
  {
   "cell_type": "code",
   "execution_count": 54,
   "metadata": {},
   "outputs": [],
   "source": [
    "df4 = df4[(df4.seconds > 180)] #Tool Change"
   ]
  },
  {
   "cell_type": "code",
   "execution_count": 55,
   "metadata": {},
   "outputs": [],
   "source": [
    "df4 = df4[(df4.seconds < 5400)] # Tool Change"
   ]
  },
  {
   "cell_type": "code",
   "execution_count": 45,
   "metadata": {},
   "outputs": [],
   "source": [
    "df4 = df4[(df4.seconds > 600)] # Mold Cleaning"
   ]
  },
  {
   "cell_type": "code",
   "execution_count": 46,
   "metadata": {},
   "outputs": [],
   "source": [
    "df4 = df4[(df4.seconds < 7200)] #Mold Cleaning"
   ]
  },
  {
   "cell_type": "code",
   "execution_count": 38,
   "metadata": {},
   "outputs": [],
   "source": [
    "df4 = df4[(df4.seconds > 3600)]"
   ]
  },
  {
   "cell_type": "code",
   "execution_count": 46,
   "metadata": {},
   "outputs": [
    {
     "data": {
      "text/html": [
       "<div>\n",
       "<style scoped>\n",
       "    .dataframe tbody tr th:only-of-type {\n",
       "        vertical-align: middle;\n",
       "    }\n",
       "\n",
       "    .dataframe tbody tr th {\n",
       "        vertical-align: top;\n",
       "    }\n",
       "\n",
       "    .dataframe thead th {\n",
       "        text-align: right;\n",
       "    }\n",
       "</style>\n",
       "<table border=\"1\" class=\"dataframe\">\n",
       "  <thead>\n",
       "    <tr style=\"text-align: right;\">\n",
       "      <th></th>\n",
       "      <th>week</th>\n",
       "      <th>Process</th>\n",
       "      <th>EQ_ID</th>\n",
       "      <th>Lotid</th>\n",
       "      <th>Product type</th>\n",
       "      <th>STATE_NAME_x</th>\n",
       "      <th>STATE_NAME_y</th>\n",
       "      <th>seconds</th>\n",
       "    </tr>\n",
       "  </thead>\n",
       "  <tbody>\n",
       "    <tr>\n",
       "      <th>3800681</th>\n",
       "      <td>-44</td>\n",
       "      <td>LAW</td>\n",
       "      <td>LAW004</td>\n",
       "      <td>2Z1460GG</td>\n",
       "      <td>IKCM10H60GA</td>\n",
       "      <td>Change Setup</td>\n",
       "      <td>Change Device</td>\n",
       "      <td>3110</td>\n",
       "    </tr>\n",
       "    <tr>\n",
       "      <th>3801348</th>\n",
       "      <td>-42</td>\n",
       "      <td>LAW</td>\n",
       "      <td>LAW004</td>\n",
       "      <td>2Z1470E4</td>\n",
       "      <td>IKCM10H60GA</td>\n",
       "      <td>Change Setup</td>\n",
       "      <td>Change Device</td>\n",
       "      <td>4241</td>\n",
       "    </tr>\n",
       "    <tr>\n",
       "      <th>3802234</th>\n",
       "      <td>-41</td>\n",
       "      <td>LAW</td>\n",
       "      <td>LAW004</td>\n",
       "      <td>2Z1490DJ</td>\n",
       "      <td>IKCM15L60GA</td>\n",
       "      <td>Change Setup</td>\n",
       "      <td>Change Device</td>\n",
       "      <td>3036</td>\n",
       "    </tr>\n",
       "    <tr>\n",
       "      <th>3807812</th>\n",
       "      <td>-30</td>\n",
       "      <td>LAW</td>\n",
       "      <td>LAW004</td>\n",
       "      <td>2Z2080B3</td>\n",
       "      <td>IKCM15L60GA</td>\n",
       "      <td>Change Setup</td>\n",
       "      <td>Change Device</td>\n",
       "      <td>1713</td>\n",
       "    </tr>\n",
       "    <tr>\n",
       "      <th>3808075</th>\n",
       "      <td>-29</td>\n",
       "      <td>LAW</td>\n",
       "      <td>LAW004</td>\n",
       "      <td>2Z2080QP</td>\n",
       "      <td>IKCM15L60GA</td>\n",
       "      <td>Change Setup</td>\n",
       "      <td>Change Device</td>\n",
       "      <td>1610</td>\n",
       "    </tr>\n",
       "    <tr>\n",
       "      <th>...</th>\n",
       "      <td>...</td>\n",
       "      <td>...</td>\n",
       "      <td>...</td>\n",
       "      <td>...</td>\n",
       "      <td>...</td>\n",
       "      <td>...</td>\n",
       "      <td>...</td>\n",
       "      <td>...</td>\n",
       "    </tr>\n",
       "    <tr>\n",
       "      <th>4599784</th>\n",
       "      <td>-14</td>\n",
       "      <td>LAW</td>\n",
       "      <td>LAW043</td>\n",
       "      <td>2Z22402S</td>\n",
       "      <td>IGCM10F60GA</td>\n",
       "      <td>Change Setup</td>\n",
       "      <td>Change Device</td>\n",
       "      <td>13913</td>\n",
       "    </tr>\n",
       "    <tr>\n",
       "      <th>4601019</th>\n",
       "      <td>-12</td>\n",
       "      <td>LAW</td>\n",
       "      <td>LAW043</td>\n",
       "      <td>2Z22605A</td>\n",
       "      <td>IKCM10H60GA</td>\n",
       "      <td>Change Setup</td>\n",
       "      <td>Change Device</td>\n",
       "      <td>3415</td>\n",
       "    </tr>\n",
       "    <tr>\n",
       "      <th>4601469</th>\n",
       "      <td>-10</td>\n",
       "      <td>LAW</td>\n",
       "      <td>LAW043</td>\n",
       "      <td>2Z2260L8</td>\n",
       "      <td>IKCM10L60GA</td>\n",
       "      <td>Change Setup</td>\n",
       "      <td>Change Device</td>\n",
       "      <td>9238</td>\n",
       "    </tr>\n",
       "    <tr>\n",
       "      <th>4602438</th>\n",
       "      <td>-9</td>\n",
       "      <td>LAW</td>\n",
       "      <td>LAW043</td>\n",
       "      <td>2Z229024</td>\n",
       "      <td>IKCM10H60GA</td>\n",
       "      <td>Change Setup</td>\n",
       "      <td>Change Device</td>\n",
       "      <td>2151</td>\n",
       "    </tr>\n",
       "    <tr>\n",
       "      <th>4602441</th>\n",
       "      <td>-9</td>\n",
       "      <td>LAW</td>\n",
       "      <td>LAW043</td>\n",
       "      <td>2Z229024</td>\n",
       "      <td>IKCM10H60GA</td>\n",
       "      <td>Change Setup</td>\n",
       "      <td>Change Device</td>\n",
       "      <td>3122</td>\n",
       "    </tr>\n",
       "  </tbody>\n",
       "</table>\n",
       "<p>332 rows × 8 columns</p>\n",
       "</div>"
      ],
      "text/plain": [
       "         week Process   EQ_ID     Lotid Product type  STATE_NAME_x  \\\n",
       "3800681   -44     LAW  LAW004  2Z1460GG  IKCM10H60GA  Change Setup   \n",
       "3801348   -42     LAW  LAW004  2Z1470E4  IKCM10H60GA  Change Setup   \n",
       "3802234   -41     LAW  LAW004  2Z1490DJ  IKCM15L60GA  Change Setup   \n",
       "3807812   -30     LAW  LAW004  2Z2080B3  IKCM15L60GA  Change Setup   \n",
       "3808075   -29     LAW  LAW004  2Z2080QP  IKCM15L60GA  Change Setup   \n",
       "...       ...     ...     ...       ...          ...           ...   \n",
       "4599784   -14     LAW  LAW043  2Z22402S  IGCM10F60GA  Change Setup   \n",
       "4601019   -12     LAW  LAW043  2Z22605A  IKCM10H60GA  Change Setup   \n",
       "4601469   -10     LAW  LAW043  2Z2260L8  IKCM10L60GA  Change Setup   \n",
       "4602438    -9     LAW  LAW043  2Z229024  IKCM10H60GA  Change Setup   \n",
       "4602441    -9     LAW  LAW043  2Z229024  IKCM10H60GA  Change Setup   \n",
       "\n",
       "          STATE_NAME_y  seconds  \n",
       "3800681  Change Device     3110  \n",
       "3801348  Change Device     4241  \n",
       "3802234  Change Device     3036  \n",
       "3807812  Change Device     1713  \n",
       "3808075  Change Device     1610  \n",
       "...                ...      ...  \n",
       "4599784  Change Device    13913  \n",
       "4601019  Change Device     3415  \n",
       "4601469  Change Device     9238  \n",
       "4602438  Change Device     2151  \n",
       "4602441  Change Device     3122  \n",
       "\n",
       "[332 rows x 8 columns]"
      ]
     },
     "execution_count": 46,
     "metadata": {},
     "output_type": "execute_result"
    }
   ],
   "source": [
    "df4"
   ]
  },
  {
   "cell_type": "code",
   "execution_count": 45,
   "metadata": {},
   "outputs": [
    {
     "data": {
      "text/plain": [
       "123.85406824146982"
      ]
     },
     "execution_count": 45,
     "metadata": {},
     "output_type": "execute_result"
    }
   ],
   "source": [
    "df4['seconds'].mean()/60"
   ]
  },
  {
   "cell_type": "code",
   "execution_count": 51,
   "metadata": {},
   "outputs": [
    {
     "data": {
      "text/plain": [
       "0.009456440804169769"
      ]
     },
     "execution_count": 51,
     "metadata": {},
     "output_type": "execute_result"
    }
   ],
   "source": [
    "df4.shape[0]/13430"
   ]
  },
  {
   "cell_type": "code",
   "execution_count": 59,
   "metadata": {},
   "outputs": [],
   "source": [
    "df4 = df4[(df4.Month == '2023-01')]"
   ]
  },
  {
   "cell_type": "code",
   "execution_count": 45,
   "metadata": {},
   "outputs": [
    {
     "name": "stderr",
     "output_type": "stream",
     "text": [
      "C:\\Users\\parkpaul\\AppData\\Local\\Temp\\ipykernel_4824\\2808672820.py:1: SettingWithCopyWarning: \n",
      "A value is trying to be set on a copy of a slice from a DataFrame\n",
      "\n",
      "See the caveats in the documentation: https://pandas.pydata.org/pandas-docs/stable/user_guide/indexing.html#returning-a-view-versus-a-copy\n",
      "  df4.sort_values(by=['Month'], inplace=True)\n"
     ]
    }
   ],
   "source": [
    "df4.sort_values(by=['Month'], inplace=True)"
   ]
  },
  {
   "cell_type": "code",
   "execution_count": 58,
   "metadata": {},
   "outputs": [],
   "source": [
    "#df3.groupby(['Month','EQ_ID'])[['Process']].count().reset_index().groupby(['Month'])[['EQ_ID']].count()"
   ]
  },
  {
   "cell_type": "code",
   "execution_count": 59,
   "metadata": {},
   "outputs": [],
   "source": [
    "#df4.groupby(['EQ_ID']).sum().shape[0]"
   ]
  },
  {
   "cell_type": "code",
   "execution_count": 49,
   "metadata": {},
   "outputs": [],
   "source": [
    "a.to_excel(\"Grupby2.xlsx\")"
   ]
  },
  {
   "cell_type": "code",
   "execution_count": 47,
   "metadata": {},
   "outputs": [],
   "source": [
    "k = pd.crosstab([df4.STATE_NAME_y], df4.week,values=df4.seconds,aggfunc='count',rownames=['LV6'],colnames=['month'])"
   ]
  },
  {
   "cell_type": "code",
   "execution_count": 48,
   "metadata": {},
   "outputs": [],
   "source": [
    "k.to_excel(\"count.xlsx\")"
   ]
  },
  {
   "cell_type": "code",
   "execution_count": 49,
   "metadata": {},
   "outputs": [
    {
     "data": {
      "text/html": [
       "<div>\n",
       "<style scoped>\n",
       "    .dataframe tbody tr th:only-of-type {\n",
       "        vertical-align: middle;\n",
       "    }\n",
       "\n",
       "    .dataframe tbody tr th {\n",
       "        vertical-align: top;\n",
       "    }\n",
       "\n",
       "    .dataframe thead th {\n",
       "        text-align: right;\n",
       "    }\n",
       "</style>\n",
       "<table border=\"1\" class=\"dataframe\">\n",
       "  <thead>\n",
       "    <tr style=\"text-align: right;\">\n",
       "      <th>month</th>\n",
       "      <th>-46</th>\n",
       "      <th>-45</th>\n",
       "      <th>-44</th>\n",
       "      <th>-43</th>\n",
       "      <th>-42</th>\n",
       "      <th>-41</th>\n",
       "      <th>-40</th>\n",
       "      <th>-39</th>\n",
       "      <th>-38</th>\n",
       "      <th>-37</th>\n",
       "      <th>...</th>\n",
       "      <th>-16</th>\n",
       "      <th>-15</th>\n",
       "      <th>-14</th>\n",
       "      <th>-13</th>\n",
       "      <th>-12</th>\n",
       "      <th>-11</th>\n",
       "      <th>-10</th>\n",
       "      <th>-9</th>\n",
       "      <th>-8</th>\n",
       "      <th>-7</th>\n",
       "    </tr>\n",
       "    <tr>\n",
       "      <th>LV6</th>\n",
       "      <th></th>\n",
       "      <th></th>\n",
       "      <th></th>\n",
       "      <th></th>\n",
       "      <th></th>\n",
       "      <th></th>\n",
       "      <th></th>\n",
       "      <th></th>\n",
       "      <th></th>\n",
       "      <th></th>\n",
       "      <th></th>\n",
       "      <th></th>\n",
       "      <th></th>\n",
       "      <th></th>\n",
       "      <th></th>\n",
       "      <th></th>\n",
       "      <th></th>\n",
       "      <th></th>\n",
       "      <th></th>\n",
       "      <th></th>\n",
       "      <th></th>\n",
       "    </tr>\n",
       "  </thead>\n",
       "  <tbody>\n",
       "    <tr>\n",
       "      <th>Change Device</th>\n",
       "      <td>4</td>\n",
       "      <td>7</td>\n",
       "      <td>9</td>\n",
       "      <td>8</td>\n",
       "      <td>15</td>\n",
       "      <td>12</td>\n",
       "      <td>8</td>\n",
       "      <td>8</td>\n",
       "      <td>9</td>\n",
       "      <td>8</td>\n",
       "      <td>...</td>\n",
       "      <td>11</td>\n",
       "      <td>6</td>\n",
       "      <td>8</td>\n",
       "      <td>10</td>\n",
       "      <td>12</td>\n",
       "      <td>16</td>\n",
       "      <td>9</td>\n",
       "      <td>7</td>\n",
       "      <td>8</td>\n",
       "      <td>3</td>\n",
       "    </tr>\n",
       "  </tbody>\n",
       "</table>\n",
       "<p>1 rows × 40 columns</p>\n",
       "</div>"
      ],
      "text/plain": [
       "month          -46  -45  -44  -43  -42  -41  -40  -39  -38  -37  ...  -16  \\\n",
       "LV6                                                              ...        \n",
       "Change Device    4    7    9    8   15   12    8    8    9    8  ...   11   \n",
       "\n",
       "month          -15  -14  -13  -12  -11  -10  -9   -8   -7   \n",
       "LV6                                                         \n",
       "Change Device    6    8   10   12   16    9    7    8    3  \n",
       "\n",
       "[1 rows x 40 columns]"
      ]
     },
     "execution_count": 49,
     "metadata": {},
     "output_type": "execute_result"
    }
   ],
   "source": [
    "k"
   ]
  },
  {
   "cell_type": "code",
   "execution_count": 47,
   "metadata": {},
   "outputs": [],
   "source": [
    "v = pd.crosstab([df4.STATE_NAME_y], df4.Month,values=df4.seconds,aggfunc=sum,rownames=['LV6'],colnames=['month'])"
   ]
  },
  {
   "cell_type": "code",
   "execution_count": 54,
   "metadata": {},
   "outputs": [],
   "source": [
    "c.to_excel(\"time2.xlsx\")"
   ]
  },
  {
   "cell_type": "code",
   "execution_count": 132,
   "metadata": {},
   "outputs": [
    {
     "data": {
      "text/html": [
       "<div>\n",
       "<style scoped>\n",
       "    .dataframe tbody tr th:only-of-type {\n",
       "        vertical-align: middle;\n",
       "    }\n",
       "\n",
       "    .dataframe tbody tr th {\n",
       "        vertical-align: top;\n",
       "    }\n",
       "\n",
       "    .dataframe thead th {\n",
       "        text-align: right;\n",
       "    }\n",
       "</style>\n",
       "<table border=\"1\" class=\"dataframe\">\n",
       "  <thead>\n",
       "    <tr style=\"text-align: right;\">\n",
       "      <th>month</th>\n",
       "      <th>2022-05</th>\n",
       "      <th>2022-06</th>\n",
       "      <th>2022-07</th>\n",
       "      <th>2022-08</th>\n",
       "      <th>2022-09</th>\n",
       "      <th>2022-10</th>\n",
       "      <th>2022-11</th>\n",
       "      <th>2022-12</th>\n",
       "      <th>2023-01</th>\n",
       "    </tr>\n",
       "    <tr>\n",
       "      <th>LV6</th>\n",
       "      <th></th>\n",
       "      <th></th>\n",
       "      <th></th>\n",
       "      <th></th>\n",
       "      <th></th>\n",
       "      <th></th>\n",
       "      <th></th>\n",
       "      <th></th>\n",
       "      <th></th>\n",
       "    </tr>\n",
       "  </thead>\n",
       "  <tbody>\n",
       "    <tr>\n",
       "      <th>Change Collet</th>\n",
       "      <td>71.328056</td>\n",
       "      <td>83.293056</td>\n",
       "      <td>106.864167</td>\n",
       "      <td>94.908611</td>\n",
       "      <td>66.095556</td>\n",
       "      <td>115.627222</td>\n",
       "      <td>133.7775</td>\n",
       "      <td>92.686667</td>\n",
       "      <td>81.301944</td>\n",
       "    </tr>\n",
       "  </tbody>\n",
       "</table>\n",
       "</div>"
      ],
      "text/plain": [
       "month            2022-05    2022-06     2022-07    2022-08    2022-09  \\\n",
       "LV6                                                                     \n",
       "Change Collet  71.328056  83.293056  106.864167  94.908611  66.095556   \n",
       "\n",
       "month             2022-10   2022-11    2022-12    2023-01  \n",
       "LV6                                                        \n",
       "Change Collet  115.627222  133.7775  92.686667  81.301944  "
      ]
     },
     "execution_count": 132,
     "metadata": {},
     "output_type": "execute_result"
    }
   ],
   "source": [
    "v/3600"
   ]
  },
  {
   "cell_type": "code",
   "execution_count": 53,
   "metadata": {},
   "outputs": [],
   "source": [
    "c = v/k/60"
   ]
  },
  {
   "cell_type": "code",
   "execution_count": 48,
   "metadata": {},
   "outputs": [
    {
     "data": {
      "text/html": [
       "<div>\n",
       "<style scoped>\n",
       "    .dataframe tbody tr th:only-of-type {\n",
       "        vertical-align: middle;\n",
       "    }\n",
       "\n",
       "    .dataframe tbody tr th {\n",
       "        vertical-align: top;\n",
       "    }\n",
       "\n",
       "    .dataframe thead th {\n",
       "        text-align: right;\n",
       "    }\n",
       "</style>\n",
       "<table border=\"1\" class=\"dataframe\">\n",
       "  <thead>\n",
       "    <tr style=\"text-align: right;\">\n",
       "      <th>month</th>\n",
       "      <th>2022-12</th>\n",
       "      <th>2023-01</th>\n",
       "      <th>2023-02</th>\n",
       "      <th>2023-03</th>\n",
       "      <th>2023-04</th>\n",
       "      <th>2023-05</th>\n",
       "      <th>2023-06</th>\n",
       "      <th>2023-07</th>\n",
       "      <th>2023-08</th>\n",
       "    </tr>\n",
       "    <tr>\n",
       "      <th>LV6</th>\n",
       "      <th></th>\n",
       "      <th></th>\n",
       "      <th></th>\n",
       "      <th></th>\n",
       "      <th></th>\n",
       "      <th></th>\n",
       "      <th></th>\n",
       "      <th></th>\n",
       "      <th></th>\n",
       "    </tr>\n",
       "  </thead>\n",
       "  <tbody>\n",
       "    <tr>\n",
       "      <th>Change Device</th>\n",
       "      <td>121.281481</td>\n",
       "      <td>164.466667</td>\n",
       "      <td>111.909167</td>\n",
       "      <td>192.823016</td>\n",
       "      <td>117.261111</td>\n",
       "      <td>93.170833</td>\n",
       "      <td>43.759259</td>\n",
       "      <td>101.910256</td>\n",
       "      <td>105.252778</td>\n",
       "    </tr>\n",
       "  </tbody>\n",
       "</table>\n",
       "</div>"
      ],
      "text/plain": [
       "month             2022-12     2023-01     2023-02     2023-03     2023-04  \\\n",
       "LV6                                                                         \n",
       "Change Device  121.281481  164.466667  111.909167  192.823016  117.261111   \n",
       "\n",
       "month            2023-05    2023-06     2023-07     2023-08  \n",
       "LV6                                                          \n",
       "Change Device  93.170833  43.759259  101.910256  105.252778  "
      ]
     },
     "execution_count": 48,
     "metadata": {},
     "output_type": "execute_result"
    }
   ],
   "source": [
    "v/k/60"
   ]
  },
  {
   "cell_type": "code",
   "execution_count": 43,
   "metadata": {},
   "outputs": [],
   "source": [
    "a = []"
   ]
  },
  {
   "cell_type": "code",
   "execution_count": 41,
   "metadata": {},
   "outputs": [],
   "source": [
    "UW = len(df3[df3['STATE_NAME_y'] == 'Waiting (Technician) PAT'])"
   ]
  },
  {
   "cell_type": "code",
   "execution_count": 44,
   "metadata": {},
   "outputs": [],
   "source": [
    "a.append((UW)/(df3.groupby(['Lotid']).count().shape[0]))"
   ]
  },
  {
   "cell_type": "code",
   "execution_count": 45,
   "metadata": {},
   "outputs": [],
   "source": [
    "a.append((df3[df3['STATE_NAME_y'] == 'Waiting (Technician) PAT']['seconds'].sum())/(UW))"
   ]
  },
  {
   "cell_type": "code",
   "execution_count": 46,
   "metadata": {},
   "outputs": [
    {
     "data": {
      "text/plain": [
       "[0.6282810428634555, 854.2266141510761]"
      ]
     },
     "execution_count": 46,
     "metadata": {},
     "output_type": "execute_result"
    }
   ],
   "source": [
    "a"
   ]
  },
  {
   "cell_type": "code",
   "execution_count": null,
   "metadata": {},
   "outputs": [],
   "source": [
    "one_page_MMO(df2, pq)"
   ]
  },
  {
   "cell_type": "code",
   "execution_count": 42,
   "metadata": {},
   "outputs": [],
   "source": [
    "def one_page_MMO(df2, pq):\n",
    "    \n",
    "\n",
    "    def append_df_to_excel(filename, k, sheet_name='Sheet1', startrow=None,\n",
    "                           truncate_sheet=False,\n",
    "                           **to_excel_kwargs):\n",
    "\n",
    "\n",
    "        # ignore [engine] parameter if it was passed\n",
    "        if 'engine' in to_excel_kwargs:\n",
    "            to_excel_kwargs.pop('engine')\n",
    "\n",
    "        writer = pd.ExcelWriter(filename, engine='openpyxl', mode='a',if_sheet_exists='overlay')\n",
    "        \n",
    "        try:\n",
    "            FileNotFoundError\n",
    "        except NameError:\n",
    "            FileNotFoundError = IOError\n",
    "            \n",
    "        try:\n",
    "            # try to open an existing workbook\n",
    "            writer.book = load_workbook(filename)\n",
    "\n",
    "            # get the last row in the existing Excel sheet\n",
    "            # if it was not specified explicitly\n",
    "            if startrow is None and sheet_name in writer.book.sheetnames:\n",
    "                startrow = writer.book[sheet_name].max_row\n",
    "\n",
    "            # truncate sheet\n",
    "            if truncate_sheet and sheet_name in writer.book.sheetnames:\n",
    "                # index of [sheet_name] sheet\n",
    "                idx = writer.book.sheetnames.index(sheet_name)\n",
    "                # remove [sheet_name]\n",
    "                writer.book.remove(writer.book.worksheets[idx])\n",
    "                # create an empty sheet [sheet_name] using old index\n",
    "                writer.book.create_sheet(sheet_name, idx)\n",
    "\n",
    "            # copy existing sheets\n",
    "            writer.sheets = {ws.title:ws for ws in writer.book.worksheets}\n",
    "        except FileNotFoundError:\n",
    "            # file does not exist yet, we will create it\n",
    "            pass\n",
    "            \n",
    "        if startrow is None:\n",
    "            startrow = 0\n",
    "        #with pd.ExcelWriter('recent_OEE3.xlsx', mode='a') as writer:\n",
    "        k.to_excel(writer, sheet_name, startrow=startrow, **to_excel_kwargs)\n",
    "        \n",
    "        writer.save()\n",
    "        \n",
    "    filename = r'C:\\Users\\ParkPaul\\Documents\\Python\\UDW_UW_T.xlsx'\n",
    "\n",
    "    for index, row in pq.iterrows():\n",
    "        k = row\n",
    "        lst = row['EQ_ID'].split(',')\n",
    "        lst = [x.strip(' ') for x in lst]\n",
    "        df3 = df2[df2['EQ_ID'].isin(lst)]\n",
    "        \n",
    "        a=[]\n",
    "        try:\n",
    "            UW = len(df3[df3['STATE_NAME_x'] == 'Undefined Waiting'])\n",
    "            T = len(df3[df3['STATE_NAME_x'] == 'Waiting For Technician'])\n",
    "            a.append((UW)/(df3.groupby(['Lotid']).count().shape[0]))\n",
    "            a.append((T)/(df3.groupby(['Lotid']).count().shape[0]))\n",
    "            a.append((df3[df3['STATE_NAME_x'] == 'Undefined Waiting']['seconds'].sum())/(UW))\n",
    "            a.append((df3[df3['STATE_NAME_x'] == 'Waiting For Technician']['seconds'].sum())/(T))\n",
    "            \n",
    "        except ZeroDivisionError:\n",
    "            pass\n",
    "        \n",
    "\n",
    "        a = pd.DataFrame(a)\n",
    "        a = a.transpose()\n",
    "        \n",
    "        a = a.rename(columns={0: row['Device'] + \"_\" + row['Process']})\n",
    "\n",
    "\n",
    "        append_df_to_excel(filename, a)"
   ]
  }
 ],
 "metadata": {
  "kernelspec": {
   "display_name": "Python 3 (ipykernel)",
   "language": "python",
   "name": "python3"
  },
  "language_info": {
   "codemirror_mode": {
    "name": "ipython",
    "version": 3
   },
   "file_extension": ".py",
   "mimetype": "text/x-python",
   "name": "python",
   "nbconvert_exporter": "python",
   "pygments_lexer": "ipython3",
   "version": "3.9.13"
  }
 },
 "nbformat": 4,
 "nbformat_minor": 4
}
